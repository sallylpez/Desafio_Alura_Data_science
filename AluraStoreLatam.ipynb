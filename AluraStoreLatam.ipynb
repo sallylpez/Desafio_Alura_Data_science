{
  "nbformat": 4,
  "nbformat_minor": 0,
  "metadata": {
    "colab": {
      "provenance": [],
      "include_colab_link": true
    },
    "kernelspec": {
      "name": "python3",
      "display_name": "Python 3"
    },
    "language_info": {
      "name": "python"
    }
  },
  "cells": [
    {
      "cell_type": "markdown",
      "metadata": {
        "id": "view-in-github",
        "colab_type": "text"
      },
      "source": [
        "<a href=\"https://colab.research.google.com/github/sallylpez/Desafio_Alura_Data_science/blob/main/AluraStoreLatam.ipynb\" target=\"_parent\"><img src=\"https://colab.research.google.com/assets/colab-badge.svg\" alt=\"Open In Colab\"/></a>"
      ]
    },
    {
      "cell_type": "code",
      "source": [
        "pip install ydata_profiling"
      ],
      "metadata": {
        "colab": {
          "base_uri": "https://localhost:8080/"
        },
        "id": "8UwquqzxsLSb",
        "outputId": "ac8b3274-1017-4d99-a943-0e4cd9694199"
      },
      "execution_count": null,
      "outputs": [
        {
          "output_type": "stream",
          "name": "stdout",
          "text": [
            "Collecting ydata_profiling\n",
            "  Downloading ydata_profiling-4.16.1-py2.py3-none-any.whl.metadata (22 kB)\n",
            "Requirement already satisfied: scipy<1.16,>=1.4.1 in /usr/local/lib/python3.11/dist-packages (from ydata_profiling) (1.15.2)\n",
            "Requirement already satisfied: pandas!=1.4.0,<3.0,>1.1 in /usr/local/lib/python3.11/dist-packages (from ydata_profiling) (2.2.2)\n",
            "Requirement already satisfied: matplotlib<=3.10,>=3.5 in /usr/local/lib/python3.11/dist-packages (from ydata_profiling) (3.10.0)\n",
            "Requirement already satisfied: pydantic>=2 in /usr/local/lib/python3.11/dist-packages (from ydata_profiling) (2.11.3)\n",
            "Requirement already satisfied: PyYAML<6.1,>=5.0.0 in /usr/local/lib/python3.11/dist-packages (from ydata_profiling) (6.0.2)\n",
            "Requirement already satisfied: jinja2<3.2,>=2.11.1 in /usr/local/lib/python3.11/dist-packages (from ydata_profiling) (3.1.6)\n",
            "Collecting visions<0.8.2,>=0.7.5 (from visions[type_image_path]<0.8.2,>=0.7.5->ydata_profiling)\n",
            "  Downloading visions-0.8.1-py3-none-any.whl.metadata (11 kB)\n",
            "Requirement already satisfied: numpy<2.2,>=1.16.0 in /usr/local/lib/python3.11/dist-packages (from ydata_profiling) (2.0.2)\n",
            "Collecting htmlmin==0.1.12 (from ydata_profiling)\n",
            "  Downloading htmlmin-0.1.12.tar.gz (19 kB)\n",
            "  Preparing metadata (setup.py) ... \u001b[?25l\u001b[?25hdone\n",
            "Collecting phik<0.13,>=0.11.1 (from ydata_profiling)\n",
            "  Downloading phik-0.12.4-cp311-cp311-manylinux_2_17_x86_64.manylinux2014_x86_64.whl.metadata (5.6 kB)\n",
            "Requirement already satisfied: requests<3,>=2.24.0 in /usr/local/lib/python3.11/dist-packages (from ydata_profiling) (2.32.3)\n",
            "Requirement already satisfied: tqdm<5,>=4.48.2 in /usr/local/lib/python3.11/dist-packages (from ydata_profiling) (4.67.1)\n",
            "Requirement already satisfied: seaborn<0.14,>=0.10.1 in /usr/local/lib/python3.11/dist-packages (from ydata_profiling) (0.13.2)\n",
            "Collecting multimethod<2,>=1.4 (from ydata_profiling)\n",
            "  Downloading multimethod-1.12-py3-none-any.whl.metadata (9.6 kB)\n",
            "Requirement already satisfied: statsmodels<1,>=0.13.2 in /usr/local/lib/python3.11/dist-packages (from ydata_profiling) (0.14.4)\n",
            "Requirement already satisfied: typeguard<5,>=3 in /usr/local/lib/python3.11/dist-packages (from ydata_profiling) (4.4.2)\n",
            "Collecting imagehash==4.3.1 (from ydata_profiling)\n",
            "  Downloading ImageHash-4.3.1-py2.py3-none-any.whl.metadata (8.0 kB)\n",
            "Requirement already satisfied: wordcloud>=1.9.3 in /usr/local/lib/python3.11/dist-packages (from ydata_profiling) (1.9.4)\n",
            "Collecting dacite>=1.8 (from ydata_profiling)\n",
            "  Downloading dacite-1.9.2-py3-none-any.whl.metadata (17 kB)\n",
            "Requirement already satisfied: numba<=0.61,>=0.56.0 in /usr/local/lib/python3.11/dist-packages (from ydata_profiling) (0.60.0)\n",
            "Collecting PyWavelets (from imagehash==4.3.1->ydata_profiling)\n",
            "  Downloading pywavelets-1.8.0-cp311-cp311-manylinux_2_17_x86_64.manylinux2014_x86_64.whl.metadata (9.0 kB)\n",
            "Requirement already satisfied: pillow in /usr/local/lib/python3.11/dist-packages (from imagehash==4.3.1->ydata_profiling) (11.2.1)\n",
            "Requirement already satisfied: MarkupSafe>=2.0 in /usr/local/lib/python3.11/dist-packages (from jinja2<3.2,>=2.11.1->ydata_profiling) (3.0.2)\n",
            "Requirement already satisfied: contourpy>=1.0.1 in /usr/local/lib/python3.11/dist-packages (from matplotlib<=3.10,>=3.5->ydata_profiling) (1.3.2)\n",
            "Requirement already satisfied: cycler>=0.10 in /usr/local/lib/python3.11/dist-packages (from matplotlib<=3.10,>=3.5->ydata_profiling) (0.12.1)\n",
            "Requirement already satisfied: fonttools>=4.22.0 in /usr/local/lib/python3.11/dist-packages (from matplotlib<=3.10,>=3.5->ydata_profiling) (4.57.0)\n",
            "Requirement already satisfied: kiwisolver>=1.3.1 in /usr/local/lib/python3.11/dist-packages (from matplotlib<=3.10,>=3.5->ydata_profiling) (1.4.8)\n",
            "Requirement already satisfied: packaging>=20.0 in /usr/local/lib/python3.11/dist-packages (from matplotlib<=3.10,>=3.5->ydata_profiling) (24.2)\n",
            "Requirement already satisfied: pyparsing>=2.3.1 in /usr/local/lib/python3.11/dist-packages (from matplotlib<=3.10,>=3.5->ydata_profiling) (3.2.3)\n",
            "Requirement already satisfied: python-dateutil>=2.7 in /usr/local/lib/python3.11/dist-packages (from matplotlib<=3.10,>=3.5->ydata_profiling) (2.9.0.post0)\n",
            "Requirement already satisfied: llvmlite<0.44,>=0.43.0dev0 in /usr/local/lib/python3.11/dist-packages (from numba<=0.61,>=0.56.0->ydata_profiling) (0.43.0)\n",
            "Requirement already satisfied: pytz>=2020.1 in /usr/local/lib/python3.11/dist-packages (from pandas!=1.4.0,<3.0,>1.1->ydata_profiling) (2025.2)\n",
            "Requirement already satisfied: tzdata>=2022.7 in /usr/local/lib/python3.11/dist-packages (from pandas!=1.4.0,<3.0,>1.1->ydata_profiling) (2025.2)\n",
            "Requirement already satisfied: joblib>=0.14.1 in /usr/local/lib/python3.11/dist-packages (from phik<0.13,>=0.11.1->ydata_profiling) (1.4.2)\n",
            "Requirement already satisfied: annotated-types>=0.6.0 in /usr/local/lib/python3.11/dist-packages (from pydantic>=2->ydata_profiling) (0.7.0)\n",
            "Requirement already satisfied: pydantic-core==2.33.1 in /usr/local/lib/python3.11/dist-packages (from pydantic>=2->ydata_profiling) (2.33.1)\n",
            "Requirement already satisfied: typing-extensions>=4.12.2 in /usr/local/lib/python3.11/dist-packages (from pydantic>=2->ydata_profiling) (4.13.2)\n",
            "Requirement already satisfied: typing-inspection>=0.4.0 in /usr/local/lib/python3.11/dist-packages (from pydantic>=2->ydata_profiling) (0.4.0)\n",
            "Requirement already satisfied: charset-normalizer<4,>=2 in /usr/local/lib/python3.11/dist-packages (from requests<3,>=2.24.0->ydata_profiling) (3.4.1)\n",
            "Requirement already satisfied: idna<4,>=2.5 in /usr/local/lib/python3.11/dist-packages (from requests<3,>=2.24.0->ydata_profiling) (3.10)\n",
            "Requirement already satisfied: urllib3<3,>=1.21.1 in /usr/local/lib/python3.11/dist-packages (from requests<3,>=2.24.0->ydata_profiling) (2.4.0)\n",
            "Requirement already satisfied: certifi>=2017.4.17 in /usr/local/lib/python3.11/dist-packages (from requests<3,>=2.24.0->ydata_profiling) (2025.1.31)\n",
            "Requirement already satisfied: patsy>=0.5.6 in /usr/local/lib/python3.11/dist-packages (from statsmodels<1,>=0.13.2->ydata_profiling) (1.0.1)\n",
            "Requirement already satisfied: attrs>=19.3.0 in /usr/local/lib/python3.11/dist-packages (from visions<0.8.2,>=0.7.5->visions[type_image_path]<0.8.2,>=0.7.5->ydata_profiling) (25.3.0)\n",
            "Requirement already satisfied: networkx>=2.4 in /usr/local/lib/python3.11/dist-packages (from visions<0.8.2,>=0.7.5->visions[type_image_path]<0.8.2,>=0.7.5->ydata_profiling) (3.4.2)\n",
            "Collecting puremagic (from visions<0.8.2,>=0.7.5->visions[type_image_path]<0.8.2,>=0.7.5->ydata_profiling)\n",
            "  Downloading puremagic-1.28-py3-none-any.whl.metadata (5.8 kB)\n",
            "Requirement already satisfied: six>=1.5 in /usr/local/lib/python3.11/dist-packages (from python-dateutil>=2.7->matplotlib<=3.10,>=3.5->ydata_profiling) (1.17.0)\n",
            "Downloading ydata_profiling-4.16.1-py2.py3-none-any.whl (400 kB)\n",
            "\u001b[2K   \u001b[90m━━━━━━━━━━━━━━━━━━━━━━━━━━━━━━━━━━━━━━━━\u001b[0m \u001b[32m400.1/400.1 kB\u001b[0m \u001b[31m18.8 MB/s\u001b[0m eta \u001b[36m0:00:00\u001b[0m\n",
            "\u001b[?25hDownloading ImageHash-4.3.1-py2.py3-none-any.whl (296 kB)\n",
            "\u001b[2K   \u001b[90m━━━━━━━━━━━━━━━━━━━━━━━━━━━━━━━━━━━━━━━━\u001b[0m \u001b[32m296.5/296.5 kB\u001b[0m \u001b[31m23.5 MB/s\u001b[0m eta \u001b[36m0:00:00\u001b[0m\n",
            "\u001b[?25hDownloading dacite-1.9.2-py3-none-any.whl (16 kB)\n",
            "Downloading multimethod-1.12-py3-none-any.whl (10 kB)\n",
            "Downloading phik-0.12.4-cp311-cp311-manylinux_2_17_x86_64.manylinux2014_x86_64.whl (687 kB)\n",
            "\u001b[2K   \u001b[90m━━━━━━━━━━━━━━━━━━━━━━━━━━━━━━━━━━━━━━━━\u001b[0m \u001b[32m687.8/687.8 kB\u001b[0m \u001b[31m48.3 MB/s\u001b[0m eta \u001b[36m0:00:00\u001b[0m\n",
            "\u001b[?25hDownloading visions-0.8.1-py3-none-any.whl (105 kB)\n",
            "\u001b[2K   \u001b[90m━━━━━━━━━━━━━━━━━━━━━━━━━━━━━━━━━━━━━━━━\u001b[0m \u001b[32m105.4/105.4 kB\u001b[0m \u001b[31m9.8 MB/s\u001b[0m eta \u001b[36m0:00:00\u001b[0m\n",
            "\u001b[?25hDownloading puremagic-1.28-py3-none-any.whl (43 kB)\n",
            "\u001b[2K   \u001b[90m━━━━━━━━━━━━━━━━━━━━━━━━━━━━━━━━━━━━━━━━\u001b[0m \u001b[32m43.2/43.2 kB\u001b[0m \u001b[31m3.4 MB/s\u001b[0m eta \u001b[36m0:00:00\u001b[0m\n",
            "\u001b[?25hDownloading pywavelets-1.8.0-cp311-cp311-manylinux_2_17_x86_64.manylinux2014_x86_64.whl (4.5 MB)\n",
            "\u001b[2K   \u001b[90m━━━━━━━━━━━━━━━━━━━━━━━━━━━━━━━━━━━━━━━━\u001b[0m \u001b[32m4.5/4.5 MB\u001b[0m \u001b[31m61.8 MB/s\u001b[0m eta \u001b[36m0:00:00\u001b[0m\n",
            "\u001b[?25hBuilding wheels for collected packages: htmlmin\n",
            "  Building wheel for htmlmin (setup.py) ... \u001b[?25l\u001b[?25hdone\n",
            "  Created wheel for htmlmin: filename=htmlmin-0.1.12-py3-none-any.whl size=27081 sha256=b33c55e20764c190203605c0a1f08828b143fe1f129a968cc69730f7f96ee12e\n",
            "  Stored in directory: /root/.cache/pip/wheels/8d/55/1a/19cd535375ed1ede0c996405ebffe34b196d78e2d9545723a2\n",
            "Successfully built htmlmin\n",
            "Installing collected packages: puremagic, htmlmin, PyWavelets, multimethod, dacite, imagehash, visions, phik, ydata_profiling\n",
            "Successfully installed PyWavelets-1.8.0 dacite-1.9.2 htmlmin-0.1.12 imagehash-4.3.1 multimethod-1.12 phik-0.12.4 puremagic-1.28 visions-0.8.1 ydata_profiling-4.16.1\n"
          ]
        }
      ]
    },
    {
      "cell_type": "markdown",
      "source": [
        "### Importación de datos\n",
        "\n"
      ],
      "metadata": {
        "id": "RhEdWd9YUR6H"
      }
    },
    {
      "cell_type": "code",
      "execution_count": null,
      "metadata": {
        "colab": {
          "base_uri": "https://localhost:8080/",
          "height": 464
        },
        "id": "T3EvaeQ_INIL",
        "outputId": "fc498d7b-4220-4895-aec0-3eee6a05a58f"
      },
      "outputs": [
        {
          "output_type": "display_data",
          "data": {
            "text/plain": [
              "<IPython.core.display.HTML object>"
            ],
            "text/html": [
              "\n",
              "            <div>\n",
              "                <ins><a href=\"https://ydata.ai/register\">Upgrade to ydata-sdk</a></ins>\n",
              "                <p>\n",
              "                    Improve your data and profiling with ydata-sdk, featuring data quality scoring, redundancy detection, outlier identification, text validation, and synthetic data generation.\n",
              "                </p>\n",
              "            </div>\n",
              "            "
            ]
          },
          "metadata": {}
        },
        {
          "output_type": "execute_result",
          "data": {
            "text/plain": [
              "            Producto Categoría del Producto    Precio  Costo de envío  \\\n",
              "0  Asistente virtual           Electrónicos  164300.0          6900.0   \n",
              "1    Mesa de comedor                Muebles  192300.0          8400.0   \n",
              "2      Juego de mesa               Juguetes  209600.0         15900.0   \n",
              "3         Microondas      Electrodomésticos  757500.0         41000.0   \n",
              "4   Silla de oficina                Muebles  335200.0         20200.0   \n",
              "\n",
              "  Fecha de Compra         Vendedor Lugar de Compra  Calificación  \\\n",
              "0      16/01/2021      Pedro Gomez          Bogotá             4   \n",
              "1      18/05/2022  Beatriz Morales        Medellín             1   \n",
              "2      15/03/2021   Juan Fernandez       Cartagena             1   \n",
              "3      03/05/2022   Juan Fernandez            Cali             4   \n",
              "4      07/11/2020    Maria Alfonso        Medellín             5   \n",
              "\n",
              "       Método de pago  Cantidad de cuotas       lat       lon  \n",
              "0  Tarjeta de crédito                   8   4.60971 -74.08175  \n",
              "1  Tarjeta de crédito                   4   6.25184 -75.56359  \n",
              "2  Tarjeta de crédito                   1  10.39972 -75.51444  \n",
              "3               Nequi                   1   3.43722 -76.52250  \n",
              "4               Nequi                   1   6.25184 -75.56359  "
            ],
            "text/html": [
              "\n",
              "  <div id=\"df-1c3579db-c755-43e1-b83c-b40ea1e6e72c\" class=\"colab-df-container\">\n",
              "    <div>\n",
              "<style scoped>\n",
              "    .dataframe tbody tr th:only-of-type {\n",
              "        vertical-align: middle;\n",
              "    }\n",
              "\n",
              "    .dataframe tbody tr th {\n",
              "        vertical-align: top;\n",
              "    }\n",
              "\n",
              "    .dataframe thead th {\n",
              "        text-align: right;\n",
              "    }\n",
              "</style>\n",
              "<table border=\"1\" class=\"dataframe\">\n",
              "  <thead>\n",
              "    <tr style=\"text-align: right;\">\n",
              "      <th></th>\n",
              "      <th>Producto</th>\n",
              "      <th>Categoría del Producto</th>\n",
              "      <th>Precio</th>\n",
              "      <th>Costo de envío</th>\n",
              "      <th>Fecha de Compra</th>\n",
              "      <th>Vendedor</th>\n",
              "      <th>Lugar de Compra</th>\n",
              "      <th>Calificación</th>\n",
              "      <th>Método de pago</th>\n",
              "      <th>Cantidad de cuotas</th>\n",
              "      <th>lat</th>\n",
              "      <th>lon</th>\n",
              "    </tr>\n",
              "  </thead>\n",
              "  <tbody>\n",
              "    <tr>\n",
              "      <th>0</th>\n",
              "      <td>Asistente virtual</td>\n",
              "      <td>Electrónicos</td>\n",
              "      <td>164300.0</td>\n",
              "      <td>6900.0</td>\n",
              "      <td>16/01/2021</td>\n",
              "      <td>Pedro Gomez</td>\n",
              "      <td>Bogotá</td>\n",
              "      <td>4</td>\n",
              "      <td>Tarjeta de crédito</td>\n",
              "      <td>8</td>\n",
              "      <td>4.60971</td>\n",
              "      <td>-74.08175</td>\n",
              "    </tr>\n",
              "    <tr>\n",
              "      <th>1</th>\n",
              "      <td>Mesa de comedor</td>\n",
              "      <td>Muebles</td>\n",
              "      <td>192300.0</td>\n",
              "      <td>8400.0</td>\n",
              "      <td>18/05/2022</td>\n",
              "      <td>Beatriz Morales</td>\n",
              "      <td>Medellín</td>\n",
              "      <td>1</td>\n",
              "      <td>Tarjeta de crédito</td>\n",
              "      <td>4</td>\n",
              "      <td>6.25184</td>\n",
              "      <td>-75.56359</td>\n",
              "    </tr>\n",
              "    <tr>\n",
              "      <th>2</th>\n",
              "      <td>Juego de mesa</td>\n",
              "      <td>Juguetes</td>\n",
              "      <td>209600.0</td>\n",
              "      <td>15900.0</td>\n",
              "      <td>15/03/2021</td>\n",
              "      <td>Juan Fernandez</td>\n",
              "      <td>Cartagena</td>\n",
              "      <td>1</td>\n",
              "      <td>Tarjeta de crédito</td>\n",
              "      <td>1</td>\n",
              "      <td>10.39972</td>\n",
              "      <td>-75.51444</td>\n",
              "    </tr>\n",
              "    <tr>\n",
              "      <th>3</th>\n",
              "      <td>Microondas</td>\n",
              "      <td>Electrodomésticos</td>\n",
              "      <td>757500.0</td>\n",
              "      <td>41000.0</td>\n",
              "      <td>03/05/2022</td>\n",
              "      <td>Juan Fernandez</td>\n",
              "      <td>Cali</td>\n",
              "      <td>4</td>\n",
              "      <td>Nequi</td>\n",
              "      <td>1</td>\n",
              "      <td>3.43722</td>\n",
              "      <td>-76.52250</td>\n",
              "    </tr>\n",
              "    <tr>\n",
              "      <th>4</th>\n",
              "      <td>Silla de oficina</td>\n",
              "      <td>Muebles</td>\n",
              "      <td>335200.0</td>\n",
              "      <td>20200.0</td>\n",
              "      <td>07/11/2020</td>\n",
              "      <td>Maria Alfonso</td>\n",
              "      <td>Medellín</td>\n",
              "      <td>5</td>\n",
              "      <td>Nequi</td>\n",
              "      <td>1</td>\n",
              "      <td>6.25184</td>\n",
              "      <td>-75.56359</td>\n",
              "    </tr>\n",
              "  </tbody>\n",
              "</table>\n",
              "</div>\n",
              "    <div class=\"colab-df-buttons\">\n",
              "\n",
              "  <div class=\"colab-df-container\">\n",
              "    <button class=\"colab-df-convert\" onclick=\"convertToInteractive('df-1c3579db-c755-43e1-b83c-b40ea1e6e72c')\"\n",
              "            title=\"Convert this dataframe to an interactive table.\"\n",
              "            style=\"display:none;\">\n",
              "\n",
              "  <svg xmlns=\"http://www.w3.org/2000/svg\" height=\"24px\" viewBox=\"0 -960 960 960\">\n",
              "    <path d=\"M120-120v-720h720v720H120Zm60-500h600v-160H180v160Zm220 220h160v-160H400v160Zm0 220h160v-160H400v160ZM180-400h160v-160H180v160Zm440 0h160v-160H620v160ZM180-180h160v-160H180v160Zm440 0h160v-160H620v160Z\"/>\n",
              "  </svg>\n",
              "    </button>\n",
              "\n",
              "  <style>\n",
              "    .colab-df-container {\n",
              "      display:flex;\n",
              "      gap: 12px;\n",
              "    }\n",
              "\n",
              "    .colab-df-convert {\n",
              "      background-color: #E8F0FE;\n",
              "      border: none;\n",
              "      border-radius: 50%;\n",
              "      cursor: pointer;\n",
              "      display: none;\n",
              "      fill: #1967D2;\n",
              "      height: 32px;\n",
              "      padding: 0 0 0 0;\n",
              "      width: 32px;\n",
              "    }\n",
              "\n",
              "    .colab-df-convert:hover {\n",
              "      background-color: #E2EBFA;\n",
              "      box-shadow: 0px 1px 2px rgba(60, 64, 67, 0.3), 0px 1px 3px 1px rgba(60, 64, 67, 0.15);\n",
              "      fill: #174EA6;\n",
              "    }\n",
              "\n",
              "    .colab-df-buttons div {\n",
              "      margin-bottom: 4px;\n",
              "    }\n",
              "\n",
              "    [theme=dark] .colab-df-convert {\n",
              "      background-color: #3B4455;\n",
              "      fill: #D2E3FC;\n",
              "    }\n",
              "\n",
              "    [theme=dark] .colab-df-convert:hover {\n",
              "      background-color: #434B5C;\n",
              "      box-shadow: 0px 1px 3px 1px rgba(0, 0, 0, 0.15);\n",
              "      filter: drop-shadow(0px 1px 2px rgba(0, 0, 0, 0.3));\n",
              "      fill: #FFFFFF;\n",
              "    }\n",
              "  </style>\n",
              "\n",
              "    <script>\n",
              "      const buttonEl =\n",
              "        document.querySelector('#df-1c3579db-c755-43e1-b83c-b40ea1e6e72c button.colab-df-convert');\n",
              "      buttonEl.style.display =\n",
              "        google.colab.kernel.accessAllowed ? 'block' : 'none';\n",
              "\n",
              "      async function convertToInteractive(key) {\n",
              "        const element = document.querySelector('#df-1c3579db-c755-43e1-b83c-b40ea1e6e72c');\n",
              "        const dataTable =\n",
              "          await google.colab.kernel.invokeFunction('convertToInteractive',\n",
              "                                                    [key], {});\n",
              "        if (!dataTable) return;\n",
              "\n",
              "        const docLinkHtml = 'Like what you see? Visit the ' +\n",
              "          '<a target=\"_blank\" href=https://colab.research.google.com/notebooks/data_table.ipynb>data table notebook</a>'\n",
              "          + ' to learn more about interactive tables.';\n",
              "        element.innerHTML = '';\n",
              "        dataTable['output_type'] = 'display_data';\n",
              "        await google.colab.output.renderOutput(dataTable, element);\n",
              "        const docLink = document.createElement('div');\n",
              "        docLink.innerHTML = docLinkHtml;\n",
              "        element.appendChild(docLink);\n",
              "      }\n",
              "    </script>\n",
              "  </div>\n",
              "\n",
              "\n",
              "    <div id=\"df-29b22339-d03b-4779-9d3d-1fa0e6a7ecaa\">\n",
              "      <button class=\"colab-df-quickchart\" onclick=\"quickchart('df-29b22339-d03b-4779-9d3d-1fa0e6a7ecaa')\"\n",
              "                title=\"Suggest charts\"\n",
              "                style=\"display:none;\">\n",
              "\n",
              "<svg xmlns=\"http://www.w3.org/2000/svg\" height=\"24px\"viewBox=\"0 0 24 24\"\n",
              "     width=\"24px\">\n",
              "    <g>\n",
              "        <path d=\"M19 3H5c-1.1 0-2 .9-2 2v14c0 1.1.9 2 2 2h14c1.1 0 2-.9 2-2V5c0-1.1-.9-2-2-2zM9 17H7v-7h2v7zm4 0h-2V7h2v10zm4 0h-2v-4h2v4z\"/>\n",
              "    </g>\n",
              "</svg>\n",
              "      </button>\n",
              "\n",
              "<style>\n",
              "  .colab-df-quickchart {\n",
              "      --bg-color: #E8F0FE;\n",
              "      --fill-color: #1967D2;\n",
              "      --hover-bg-color: #E2EBFA;\n",
              "      --hover-fill-color: #174EA6;\n",
              "      --disabled-fill-color: #AAA;\n",
              "      --disabled-bg-color: #DDD;\n",
              "  }\n",
              "\n",
              "  [theme=dark] .colab-df-quickchart {\n",
              "      --bg-color: #3B4455;\n",
              "      --fill-color: #D2E3FC;\n",
              "      --hover-bg-color: #434B5C;\n",
              "      --hover-fill-color: #FFFFFF;\n",
              "      --disabled-bg-color: #3B4455;\n",
              "      --disabled-fill-color: #666;\n",
              "  }\n",
              "\n",
              "  .colab-df-quickchart {\n",
              "    background-color: var(--bg-color);\n",
              "    border: none;\n",
              "    border-radius: 50%;\n",
              "    cursor: pointer;\n",
              "    display: none;\n",
              "    fill: var(--fill-color);\n",
              "    height: 32px;\n",
              "    padding: 0;\n",
              "    width: 32px;\n",
              "  }\n",
              "\n",
              "  .colab-df-quickchart:hover {\n",
              "    background-color: var(--hover-bg-color);\n",
              "    box-shadow: 0 1px 2px rgba(60, 64, 67, 0.3), 0 1px 3px 1px rgba(60, 64, 67, 0.15);\n",
              "    fill: var(--button-hover-fill-color);\n",
              "  }\n",
              "\n",
              "  .colab-df-quickchart-complete:disabled,\n",
              "  .colab-df-quickchart-complete:disabled:hover {\n",
              "    background-color: var(--disabled-bg-color);\n",
              "    fill: var(--disabled-fill-color);\n",
              "    box-shadow: none;\n",
              "  }\n",
              "\n",
              "  .colab-df-spinner {\n",
              "    border: 2px solid var(--fill-color);\n",
              "    border-color: transparent;\n",
              "    border-bottom-color: var(--fill-color);\n",
              "    animation:\n",
              "      spin 1s steps(1) infinite;\n",
              "  }\n",
              "\n",
              "  @keyframes spin {\n",
              "    0% {\n",
              "      border-color: transparent;\n",
              "      border-bottom-color: var(--fill-color);\n",
              "      border-left-color: var(--fill-color);\n",
              "    }\n",
              "    20% {\n",
              "      border-color: transparent;\n",
              "      border-left-color: var(--fill-color);\n",
              "      border-top-color: var(--fill-color);\n",
              "    }\n",
              "    30% {\n",
              "      border-color: transparent;\n",
              "      border-left-color: var(--fill-color);\n",
              "      border-top-color: var(--fill-color);\n",
              "      border-right-color: var(--fill-color);\n",
              "    }\n",
              "    40% {\n",
              "      border-color: transparent;\n",
              "      border-right-color: var(--fill-color);\n",
              "      border-top-color: var(--fill-color);\n",
              "    }\n",
              "    60% {\n",
              "      border-color: transparent;\n",
              "      border-right-color: var(--fill-color);\n",
              "    }\n",
              "    80% {\n",
              "      border-color: transparent;\n",
              "      border-right-color: var(--fill-color);\n",
              "      border-bottom-color: var(--fill-color);\n",
              "    }\n",
              "    90% {\n",
              "      border-color: transparent;\n",
              "      border-bottom-color: var(--fill-color);\n",
              "    }\n",
              "  }\n",
              "</style>\n",
              "\n",
              "      <script>\n",
              "        async function quickchart(key) {\n",
              "          const quickchartButtonEl =\n",
              "            document.querySelector('#' + key + ' button');\n",
              "          quickchartButtonEl.disabled = true;  // To prevent multiple clicks.\n",
              "          quickchartButtonEl.classList.add('colab-df-spinner');\n",
              "          try {\n",
              "            const charts = await google.colab.kernel.invokeFunction(\n",
              "                'suggestCharts', [key], {});\n",
              "          } catch (error) {\n",
              "            console.error('Error during call to suggestCharts:', error);\n",
              "          }\n",
              "          quickchartButtonEl.classList.remove('colab-df-spinner');\n",
              "          quickchartButtonEl.classList.add('colab-df-quickchart-complete');\n",
              "        }\n",
              "        (() => {\n",
              "          let quickchartButtonEl =\n",
              "            document.querySelector('#df-29b22339-d03b-4779-9d3d-1fa0e6a7ecaa button');\n",
              "          quickchartButtonEl.style.display =\n",
              "            google.colab.kernel.accessAllowed ? 'block' : 'none';\n",
              "        })();\n",
              "      </script>\n",
              "    </div>\n",
              "\n",
              "    </div>\n",
              "  </div>\n"
            ],
            "application/vnd.google.colaboratory.intrinsic+json": {
              "type": "dataframe",
              "variable_name": "tienda",
              "summary": "{\n  \"name\": \"tienda\",\n  \"rows\": 2359,\n  \"fields\": [\n    {\n      \"column\": \"Producto\",\n      \"properties\": {\n        \"dtype\": \"category\",\n        \"num_unique_values\": 51,\n        \"samples\": [\n          \"Guitarra ac\\u00fastica\",\n          \"Bal\\u00f3n de baloncesto\",\n          \"Smartwatch\"\n        ],\n        \"semantic_type\": \"\",\n        \"description\": \"\"\n      }\n    },\n    {\n      \"column\": \"Categor\\u00eda del Producto\",\n      \"properties\": {\n        \"dtype\": \"category\",\n        \"num_unique_values\": 8,\n        \"samples\": [\n          \"Muebles\",\n          \"Deportes y diversi\\u00f3n\",\n          \"Electr\\u00f3nicos\"\n        ],\n        \"semantic_type\": \"\",\n        \"description\": \"\"\n      }\n    },\n    {\n      \"column\": \"Precio\",\n      \"properties\": {\n        \"dtype\": \"number\",\n        \"std\": 614686.7653873172,\n        \"min\": 7600.0,\n        \"max\": 2977000.0,\n        \"num_unique_values\": 1937,\n        \"samples\": [\n          2499400.0,\n          14800.0,\n          80500.0\n        ],\n        \"semantic_type\": \"\",\n        \"description\": \"\"\n      }\n    },\n    {\n      \"column\": \"Costo de env\\u00edo\",\n      \"properties\": {\n        \"dtype\": \"number\",\n        \"std\": 32860.0017825605,\n        \"min\": 0.0,\n        \"max\": 160800.0,\n        \"num_unique_values\": 753,\n        \"samples\": [\n          117800.0,\n          54700.0,\n          45600.0\n        ],\n        \"semantic_type\": \"\",\n        \"description\": \"\"\n      }\n    },\n    {\n      \"column\": \"Fecha de Compra\",\n      \"properties\": {\n        \"dtype\": \"object\",\n        \"num_unique_values\": 1018,\n        \"samples\": [\n          \"15/09/2022\",\n          \"03/06/2020\",\n          \"06/11/2021\"\n        ],\n        \"semantic_type\": \"\",\n        \"description\": \"\"\n      }\n    },\n    {\n      \"column\": \"Vendedor\",\n      \"properties\": {\n        \"dtype\": \"category\",\n        \"num_unique_values\": 14,\n        \"samples\": [\n          \"Juliana Costa\",\n          \"Mariana Herrera\",\n          \"Pedro Gomez\"\n        ],\n        \"semantic_type\": \"\",\n        \"description\": \"\"\n      }\n    },\n    {\n      \"column\": \"Lugar de Compra\",\n      \"properties\": {\n        \"dtype\": \"category\",\n        \"num_unique_values\": 19,\n        \"samples\": [\n          \"Bogot\\u00e1\",\n          \"Pereira\",\n          \"Neiva\"\n        ],\n        \"semantic_type\": \"\",\n        \"description\": \"\"\n      }\n    },\n    {\n      \"column\": \"Calificaci\\u00f3n\",\n      \"properties\": {\n        \"dtype\": \"number\",\n        \"std\": 1,\n        \"min\": 1,\n        \"max\": 5,\n        \"num_unique_values\": 5,\n        \"samples\": [\n          1,\n          2,\n          5\n        ],\n        \"semantic_type\": \"\",\n        \"description\": \"\"\n      }\n    },\n    {\n      \"column\": \"M\\u00e9todo de pago\",\n      \"properties\": {\n        \"dtype\": \"category\",\n        \"num_unique_values\": 4,\n        \"samples\": [\n          \"Nequi\",\n          \"Tarjeta de d\\u00e9bito\",\n          \"Tarjeta de cr\\u00e9dito\"\n        ],\n        \"semantic_type\": \"\",\n        \"description\": \"\"\n      }\n    },\n    {\n      \"column\": \"Cantidad de cuotas\",\n      \"properties\": {\n        \"dtype\": \"number\",\n        \"std\": 2,\n        \"min\": 1,\n        \"max\": 24,\n        \"num_unique_values\": 15,\n        \"samples\": [\n          7,\n          14,\n          8\n        ],\n        \"semantic_type\": \"\",\n        \"description\": \"\"\n      }\n    },\n    {\n      \"column\": \"lat\",\n      \"properties\": {\n        \"dtype\": \"number\",\n        \"std\": 2.2874452492678627,\n        \"min\": -4.21528,\n        \"max\": 11.54444,\n        \"num_unique_values\": 19,\n        \"samples\": [\n          4.60971,\n          4.81333,\n          2.9273\n        ],\n        \"semantic_type\": \"\",\n        \"description\": \"\"\n      }\n    },\n    {\n      \"column\": \"lon\",\n      \"properties\": {\n        \"dtype\": \"number\",\n        \"std\": 1.2178272727088486,\n        \"min\": -77.28111,\n        \"max\": -67.9239,\n        \"num_unique_values\": 19,\n        \"samples\": [\n          -74.08175,\n          -75.69611,\n          -75.28189\n        ],\n        \"semantic_type\": \"\",\n        \"description\": \"\"\n      }\n    }\n  ]\n}"
            }
          },
          "metadata": {},
          "execution_count": 2
        }
      ],
      "source": [
        "import pandas as pd\n",
        "from ydata_profiling import ProfileReport\n",
        "import numpy as np\n",
        "import matplotlib.pyplot as plt\n",
        "import seaborn as sns\n",
        "\n",
        "url = \"https://raw.githubusercontent.com/alura-es-cursos/challenge1-data-science-latam/refs/heads/main/base-de-datos-challenge1-latam/tienda_1%20.csv\"\n",
        "url2 = \"https://raw.githubusercontent.com/alura-es-cursos/challenge1-data-science-latam/refs/heads/main/base-de-datos-challenge1-latam/tienda_2.csv\"\n",
        "url3 = \"https://raw.githubusercontent.com/alura-es-cursos/challenge1-data-science-latam/refs/heads/main/base-de-datos-challenge1-latam/tienda_3.csv\"\n",
        "url4 = \"https://raw.githubusercontent.com/alura-es-cursos/challenge1-data-science-latam/refs/heads/main/base-de-datos-challenge1-latam/tienda_4.csv\"\n",
        "\n",
        "tienda = pd.read_csv(url)\n",
        "tienda2 = pd.read_csv(url2)\n",
        "tienda3 = pd.read_csv(url3)\n",
        "tienda4 = pd.read_csv(url4)\n",
        "\n",
        "tienda.head()"
      ]
    },
    {
      "cell_type": "markdown",
      "source": [
        "#1. Análisis de facturación\n",
        "\n"
      ],
      "metadata": {
        "id": "X62IW3KFUIYm"
      }
    },
    {
      "cell_type": "code",
      "source": [
        "ProfileReport(tienda)"
      ],
      "metadata": {
        "collapsed": true,
        "id": "jS9ofZyfqix5"
      },
      "execution_count": null,
      "outputs": []
    },
    {
      "cell_type": "code",
      "source": [
        "ProfileReport(tienda2)"
      ],
      "metadata": {
        "collapsed": true,
        "id": "4Y1cmF2exzgr"
      },
      "execution_count": null,
      "outputs": []
    },
    {
      "cell_type": "code",
      "source": [
        "ProfileReport(tienda3)"
      ],
      "metadata": {
        "collapsed": true,
        "id": "SuzZS8cbx6Gb"
      },
      "execution_count": null,
      "outputs": []
    },
    {
      "cell_type": "code",
      "source": [
        "ProfileReport(tienda4)"
      ],
      "metadata": {
        "collapsed": true,
        "id": "YD4hd5lSzNnN"
      },
      "execution_count": null,
      "outputs": []
    },
    {
      "cell_type": "code",
      "source": [
        "from http.client import PRECONDITION_FAILED\n",
        "from urllib.request import urlopen\n",
        "import csv\n",
        "\n",
        "urls= [url,url2,url3,url4]\n",
        "\n",
        "def leer_csv(url):\n",
        "  datos = []\n",
        "  with urlopen(url) as respuesta:\n",
        "    lineas =respuesta.read().decode('utf-8').splitlines()\n",
        "    lector = csv.DictReader(lineas)\n",
        "    for linea in lector:\n",
        "      datos.append(linea)\n",
        "  return datos\n",
        "\n",
        "total_facturacion = 0\n",
        "\n",
        "for i, url in enumerate(urls):\n",
        "  datos_tienda = leer_csv(url)\n",
        "  facturacion_tienda = 0\n",
        "\n",
        "  for venta in datos_tienda:\n",
        "    precio = float(venta['Precio'])\n",
        "    facturacion_tienda += precio\n",
        "\n",
        "  total_facturacion += facturacion_tienda\n",
        "  print(f'La facturación de la tienda {i+1} es {facturacion_tienda}')\n",
        "\n",
        "\n"
      ],
      "metadata": {
        "colab": {
          "base_uri": "https://localhost:8080/"
        },
        "id": "MmYi8MbR_BFV",
        "outputId": "b2b80aa6-ba17-43c9-c8c8-24209ef0035d"
      },
      "execution_count": null,
      "outputs": [
        {
          "output_type": "stream",
          "name": "stdout",
          "text": [
            "La facturación de la tienda 1 es 1038375700.0\n",
            "La facturación de la tienda 2 es 1116343500.0\n",
            "La facturación de la tienda 3 es 1098019600.0\n",
            "La facturación de la tienda 4 es 1038375700.0\n"
          ]
        }
      ]
    },
    {
      "cell_type": "code",
      "source": [
        "labels = ['Tienda 1', 'Tienda 2', 'Tienda 3', 'Tienda 4']\n",
        "sizes = [facturacion_tienda1, facturacion_tienda2, facturacion_tienda3, facturacion_tienda4]\n",
        "plt.pie(sizes, labels=labels, autopct='%1.1f%%', startangle=90)\n",
        "plt.title('Facturación por Tienda')\n",
        "plt.axis('equal')\n",
        "plt.show()\n"
      ],
      "metadata": {
        "id": "9D0Ro4F2nlp1",
        "outputId": "28553d9b-e472-4c3c-e460-b37f8b9ca146",
        "colab": {
          "base_uri": "https://localhost:8080/",
          "height": 429
        }
      },
      "execution_count": null,
      "outputs": [
        {
          "output_type": "display_data",
          "data": {
            "text/plain": [
              "<Figure size 640x480 with 1 Axes>"
            ],
            "image/png": "[encoded data removed]"
          },
          "metadata": {}
        }
      ]
    },
    {
      "cell_type": "code",
      "source": [
        "facturacion_tienda1 = tienda['Precio'].astype(float).sum()\n",
        "facturacion_tienda2 = tienda2['Precio'].astype(float).sum()\n",
        "facturacion_tienda3 = tienda3['Precio'].astype(float).sum()\n",
        "facturacion_tienda4 = tienda4['Precio'].astype(float).sum()\n",
        "\n",
        "print(f'La facturación de la tienda 1 es {facturacion_tienda1}')\n",
        "print(f'La facturación de la tienda 2 es {facturacion_tienda2}')\n",
        "print(f'La facturación de la tienda 3 es {facturacion_tienda3}')\n",
        "print(f'La facturación de la tienda 4 es {facturacion_tienda4}')\n",
        "\n",
        "facturacion_total = facturacion_tienda1 + facturacion_tienda2 + facturacion_tienda3 + facturacion_tienda4\n",
        "\n",
        "print(f'La facturación total es {facturacion_total}')"
      ],
      "metadata": {
        "colab": {
          "base_uri": "https://localhost:8080/"
        },
        "id": "_bbrpH06Dhhy",
        "outputId": "102e052b-522a-443b-c249-dedc3973090d"
      },
      "execution_count": null,
      "outputs": [
        {
          "output_type": "stream",
          "name": "stdout",
          "text": [
            "La facturación de la tienda 1 es 1150880400.0\n",
            "La facturación de la tienda 2 es 1116343500.0\n",
            "La facturación de la tienda 3 es 1098019600.0\n",
            "La facturación de la tienda 4 es 1038375700.0\n",
            "La facturación total es 4403619200.0\n"
          ]
        }
      ]
    },
    {
      "cell_type": "code",
      "source": [
        "tienda_df={'Tienda':tienda, 'Tienda2':tienda2, 'Tienda3':tienda3, 'Tienda4':tienda4}\n",
        "\n",
        "analisis_facturacion = {\n",
        "    nombre:df.groupby('Producto')['Precio'].sum()\n",
        "    for nombre, df in tienda_df.items()\n",
        "    }\n",
        "\n",
        "for nombre, analisis in analisis_facturacion.items():\n",
        "    print(f'Análisis de facturación en \"{nombre}\":')\n",
        "    print(analisis)\n",
        "    print()\n",
        "\n",
        "    df = tienda_df[nombre]\n",
        "\n",
        "    total_ventas = float(df['Precio'].sum())\n",
        "    print(f'El total de ventas en \"{nombre}\" es {total_ventas}')\n",
        "    print()\n",
        "\n"
      ],
      "metadata": {
        "colab": {
          "base_uri": "https://localhost:8080/"
        },
        "id": "TJ7asMPo0yzn",
        "outputId": "6bd6831a-8280-4f1e-917f-0bd8575eea3c"
      },
      "execution_count": null,
      "outputs": [
        {
          "output_type": "stream",
          "name": "stdout",
          "text": [
            "Análisis de facturación en \"Tienda\":\n",
            "Producto\n",
            "Ajedrez de madera                1430600.0\n",
            "Armario                         29462300.0\n",
            "Asistente virtual                8058000.0\n",
            "Auriculares                      5043700.0\n",
            "Auriculares con micrófono        4730800.0\n",
            "Balón de baloncesto              2749800.0\n",
            "Balón de voleibol                2112200.0\n",
            "Batería                         37693900.0\n",
            "Bicicleta                       27444600.0\n",
            "Bloques de construcción          1865700.0\n",
            "Cama box                        22094700.0\n",
            "Cama king                       31176600.0\n",
            "Carrito de control remoto        3761800.0\n",
            "Celular ABXY                    32651000.0\n",
            "Ciencia de datos con Python      2063600.0\n",
            "Cubertería                       2402300.0\n",
            "Cubo mágico 8x8                   696900.0\n",
            "Cuerda para saltar                652800.0\n",
            "Dashboards con Power BI          1455700.0\n",
            "Dinosaurio Rex                    688900.0\n",
            "Estufa                          29879500.0\n",
            "Guitarra acústica               14074000.0\n",
            "Guitarra eléctrica              37292200.0\n",
            "Impresora                       16413300.0\n",
            "Iniciando en programación        2093100.0\n",
            "Iphone 15                       97902200.0\n",
            "Juego de mesa                    7614500.0\n",
            "Kit de bancas                   12141200.0\n",
            "Lavadora de ropa                65783600.0\n",
            "Lavavajillas                    62054900.0\n",
            "Mesa de centro                   7621900.0\n",
            "Mesa de comedor                 10531500.0\n",
            "Mesa de noche                   15679600.0\n",
            "Microondas                      34761500.0\n",
            "Mochila                          3867200.0\n",
            "Modelado predictivo              3172500.0\n",
            "Muñeca bebé                      1937300.0\n",
            "Olla de presión                  2629300.0\n",
            "Pandereta                        2238900.0\n",
            "Refrigerador                   112143300.0\n",
            "Secadora de ropa                59062400.0\n",
            "Set de ollas                     6307700.0\n",
            "Set de vasos                     1359100.0\n",
            "Silla de oficina                17667300.0\n",
            "Sillón                           9879200.0\n",
            "Smart TV                        67452100.0\n",
            "Smartwatch                       7452400.0\n",
            "Sofá reclinable                 31379400.0\n",
            "TV LED UHD 4K                  142150200.0\n",
            "Tablet ABXY                     47639800.0\n",
            "Vaso térmico                     2463400.0\n",
            "Name: Precio, dtype: float64\n",
            "\n",
            "El total de ventas en \"Tienda\" es 1150880400.0\n",
            "\n",
            "Análisis de facturación en \"Tienda2\":\n",
            "Producto\n",
            "Ajedrez de madera                1287700.0\n",
            "Armario                         26174900.0\n",
            "Asistente virtual                7929500.0\n",
            "Auriculares                      3569600.0\n",
            "Auriculares con micrófono        5644300.0\n",
            "Balón de baloncesto              2091300.0\n",
            "Balón de voleibol                2289600.0\n",
            "Batería                         46175300.0\n",
            "Bicicleta                       22958300.0\n",
            "Bloques de construcción          1789400.0\n",
            "Cama box                        24357100.0\n",
            "Cama king                       28213700.0\n",
            "Carrito de control remoto        3271400.0\n",
            "Celular ABXY                    41668900.0\n",
            "Ciencia de datos con Python      2398900.0\n",
            "Cubertería                       1732900.0\n",
            "Cubo mágico 8x8                   643600.0\n",
            "Cuerda para saltar                856900.0\n",
            "Dashboards con Power BI          1599500.0\n",
            "Dinosaurio Rex                    770300.0\n",
            "Estufa                          30098400.0\n",
            "Guitarra acústica               18648400.0\n",
            "Guitarra eléctrica              36441500.0\n",
            "Impresora                       10385300.0\n",
            "Iniciando en programación        3127800.0\n",
            "Iphone 15                      113225800.0\n",
            "Juego de mesa                    5811900.0\n",
            "Kit de bancas                   12604800.0\n",
            "Lavadora de ropa                66762300.0\n",
            "Lavavajillas                    58767500.0\n",
            "Mesa de centro                   7775300.0\n",
            "Mesa de comedor                  8637500.0\n",
            "Mesa de noche                   12230300.0\n",
            "Microondas                      36192000.0\n",
            "Mochila                          4392500.0\n",
            "Modelado predictivo              2965000.0\n",
            "Muñeca bebé                      2371100.0\n",
            "Olla de presión                  3507000.0\n",
            "Pandereta                        3725100.0\n",
            "Refrigerador                    97632500.0\n",
            "Secadora de ropa                59115100.0\n",
            "Set de ollas                     7964400.0\n",
            "Set de vasos                     1542600.0\n",
            "Silla de oficina                18530000.0\n",
            "Sillón                           8413500.0\n",
            "Smart TV                        61142000.0\n",
            "Smartwatch                       7680900.0\n",
            "Sofá reclinable                 29489200.0\n",
            "TV LED UHD 4K                  103375000.0\n",
            "Tablet ABXY                     56209800.0\n",
            "Vaso térmico                     2155900.0\n",
            "Name: Precio, dtype: float64\n",
            "\n",
            "El total de ventas en \"Tienda2\" es 1116343500.0\n",
            "\n",
            "Análisis de facturación en \"Tienda3\":\n",
            "Producto\n",
            "Ajedrez de madera               1355300.0\n",
            "Armario                        24187200.0\n",
            "Asistente virtual               8013300.0\n",
            "Auriculares                     3959400.0\n",
            "Auriculares con micrófono       5970500.0\n",
            "Balón de baloncesto             2478100.0\n",
            "Balón de voleibol               2333800.0\n",
            "Batería                        29369200.0\n",
            "Bicicleta                      24654800.0\n",
            "Bloques de construcción         1237200.0\n",
            "Cama box                       24699700.0\n",
            "Cama king                      38834700.0\n",
            "Carrito de control remoto       3720300.0\n",
            "Celular ABXY                   43419600.0\n",
            "Ciencia de datos con Python     2464800.0\n",
            "Cubertería                      1775900.0\n",
            "Cubo mágico 8x8                  640400.0\n",
            "Cuerda para saltar               853800.0\n",
            "Dashboards con Power BI         1372600.0\n",
            "Dinosaurio Rex                   795600.0\n",
            "Estufa                         38572400.0\n",
            "Guitarra acústica              14918600.0\n",
            "Guitarra eléctrica             29848000.0\n",
            "Impresora                      14218700.0\n",
            "Iniciando en programación       2286400.0\n",
            "Iphone 15                      93225700.0\n",
            "Juego de mesa                   9719700.0\n",
            "Kit de bancas                  16699800.0\n",
            "Lavadora de ropa               57459100.0\n",
            "Lavavajillas                   64364800.0\n",
            "Mesa de centro                  6929400.0\n",
            "Mesa de comedor                14326100.0\n",
            "Mesa de noche                  15365500.0\n",
            "Microondas                     19153600.0\n",
            "Mochila                         3547000.0\n",
            "Modelado predictivo             3374900.0\n",
            "Muñeca bebé                     1932600.0\n",
            "Olla de presión                 3376900.0\n",
            "Pandereta                       3245100.0\n",
            "Refrigerador                   99889700.0\n",
            "Secadora de ropa               49798300.0\n",
            "Set de ollas                    8696500.0\n",
            "Set de vasos                    1210700.0\n",
            "Silla de oficina               18376300.0\n",
            "Sillón                         11333600.0\n",
            "Smart TV                       78837300.0\n",
            "Smartwatch                      8022100.0\n",
            "Sofá reclinable                30319800.0\n",
            "TV LED UHD 4K                  96669100.0\n",
            "Tablet ABXY                    58440100.0\n",
            "Vaso térmico                    1725600.0\n",
            "Name: Precio, dtype: float64\n",
            "\n",
            "El total de ventas en \"Tienda3\" es 1098019600.0\n",
            "\n",
            "Análisis de facturación en \"Tienda4\":\n",
            "Producto\n",
            "Ajedrez de madera               1075500.0\n",
            "Armario                        16421400.0\n",
            "Asistente virtual              10467300.0\n",
            "Auriculares                     3943600.0\n",
            "Auriculares con micrófono       6402900.0\n",
            "Balón de baloncesto             2439800.0\n",
            "Balón de voleibol               2364200.0\n",
            "Batería                        34567900.0\n",
            "Bicicleta                      21429800.0\n",
            "Bloques de construcción         1909800.0\n",
            "Cama box                       32946300.0\n",
            "Cama king                      37555400.0\n",
            "Carrito de control remoto       4014200.0\n",
            "Celular ABXY                   40171600.0\n",
            "Ciencia de datos con Python     2108800.0\n",
            "Cubertería                      2649300.0\n",
            "Cubo mágico 8x8                  748400.0\n",
            "Cuerda para saltar               704800.0\n",
            "Dashboards con Power BI         1990600.0\n",
            "Dinosaurio Rex                   858100.0\n",
            "Estufa                         32320800.0\n",
            "Guitarra acústica              11257100.0\n",
            "Guitarra eléctrica             25823100.0\n",
            "Impresora                      15210000.0\n",
            "Iniciando en programación       2118200.0\n",
            "Iphone 15                      96697500.0\n",
            "Juego de mesa                   9305700.0\n",
            "Kit de bancas                  11839100.0\n",
            "Lavadora de ropa               52463600.0\n",
            "Lavavajillas                   55349300.0\n",
            "Mesa de centro                  7515400.0\n",
            "Mesa de comedor                13320600.0\n",
            "Mesa de noche                  15144100.0\n",
            "Microondas                     25592400.0\n",
            "Mochila                         4259000.0\n",
            "Modelado predictivo             3103700.0\n",
            "Muñeca bebé                     2350500.0\n",
            "Olla de presión                 3415600.0\n",
            "Pandereta                       3454300.0\n",
            "Refrigerador                   75271900.0\n",
            "Secadora de ropa               42262200.0\n",
            "Set de ollas                    7537800.0\n",
            "Set de vasos                    1471800.0\n",
            "Silla de oficina               14525400.0\n",
            "Sillón                         11170500.0\n",
            "Smart TV                       82790400.0\n",
            "Smartwatch                      6774400.0\n",
            "Sofá reclinable                32090700.0\n",
            "TV LED UHD 4K                  90295300.0\n",
            "Tablet ABXY                    56723100.0\n",
            "Vaso térmico                    2152500.0\n",
            "Name: Precio, dtype: float64\n",
            "\n",
            "El total de ventas en \"Tienda4\" es 1038375700.0\n",
            "\n"
          ]
        }
      ]
    },
    {
      "cell_type": "markdown",
      "source": [
        "# 2. Ventas por categoría"
      ],
      "metadata": {
        "id": "2V_vcAPzWZmR"
      }
    },
    {
      "cell_type": "code",
      "source": [
        "tienda_df={'Tienda':tienda, 'Tienda2':tienda2, 'Tienda3':tienda3, 'Tienda4':tienda4}\n",
        "\n",
        "total_ventas_por_categoria = {\n",
        "    nombre:df.groupby('Categoría del Producto')['Precio'].sum()\n",
        "    for nombre, df in tienda_df.items()\n",
        "    }\n",
        "\n",
        "for nombre, ventas_por_categoria in total_ventas_por_categoria.items():\n",
        "    print(f'Ventas por categoría en \"{nombre}\":')\n",
        "    print(ventas_por_categoria)\n",
        "    print()"
      ],
      "metadata": {
        "colab": {
          "base_uri": "https://localhost:8080/"
        },
        "id": "fr5l8Lrq6Hgz",
        "outputId": "12d686dd-2c96-40e9-fea9-5a36ee97d0b9"
      },
      "execution_count": null,
      "outputs": [
        {
          "output_type": "stream",
          "name": "stdout",
          "text": [
            "Ventas por categoría en \"Tienda\":\n",
            "Categoría del Producto\n",
            "Artículos para el hogar     12698400.0\n",
            "Deportes y diversión        39290000.0\n",
            "Electrodomésticos          363685200.0\n",
            "Electrónicos               429493500.0\n",
            "Instrumentos musicales      91299000.0\n",
            "Juguetes                    17995700.0\n",
            "Libros                       8784900.0\n",
            "Muebles                    187633700.0\n",
            "Name: Precio, dtype: float64\n",
            "\n",
            "Ventas por categoría en \"Tienda2\":\n",
            "Categoría del Producto\n",
            "Artículos para el hogar     14746900.0\n",
            "Deportes y diversión        34744500.0\n",
            "Electrodomésticos          348567800.0\n",
            "Electrónicos               410831100.0\n",
            "Instrumentos musicales     104990300.0\n",
            "Juguetes                    15945400.0\n",
            "Libros                      10091200.0\n",
            "Muebles                    176426300.0\n",
            "Name: Precio, dtype: float64\n",
            "\n",
            "Ventas por categoría en \"Tienda3\":\n",
            "Categoría del Producto\n",
            "Artículos para el hogar     15060000.0\n",
            "Deportes y diversión        35593100.0\n",
            "Electrodomésticos          329237900.0\n",
            "Electrónicos               410775800.0\n",
            "Instrumentos musicales      77380900.0\n",
            "Juguetes                    19401100.0\n",
            "Libros                       9498700.0\n",
            "Muebles                    201072100.0\n",
            "Name: Precio, dtype: float64\n",
            "\n",
            "Ventas por categoría en \"Tienda4\":\n",
            "Categoría del Producto\n",
            "Artículos para el hogar     15074500.0\n",
            "Deportes y diversión        33350100.0\n",
            "Electrodomésticos          283260200.0\n",
            "Electrónicos               409476100.0\n",
            "Instrumentos musicales      75102400.0\n",
            "Juguetes                    20262200.0\n",
            "Libros                       9321300.0\n",
            "Muebles                    192528900.0\n",
            "Name: Precio, dtype: float64\n",
            "\n"
          ]
        }
      ]
    },
    {
      "cell_type": "code",
      "source": [
        "tienda_df = {'Tienda': tienda, 'Tienda2': tienda2, 'Tienda3': tienda3, 'Tienda4': tienda4}\n",
        "\n",
        "total_ventas_por_categoria = {\n",
        "    nombre: df.groupby('Categoría del Producto')['Precio'].sum()\n",
        "    for nombre, df in tienda_df.items()\n",
        "}\n",
        "\n",
        "fig, axes = plt.subplots(2, 2, figsize=(12, 8))\n",
        "\n",
        "axes = axes.flatten()\n",
        "\n",
        "for i, (nombre, ventas_por_categoria) in enumerate(total_ventas_por_categoria.items()):\n",
        "    ax = axes[i]\n",
        "    ventas_por_categoria.plot(kind='bar', ax=ax)\n",
        "    ax.set_title(f'Ventas por categoría en \"{nombre}\"')\n",
        "    ax.set_xlabel('Categoría del Producto')\n",
        "    ax.set_ylabel('Ventas Totales')\n",
        "\n",
        "plt.tight_layout()\n",
        "plt.show()"
      ],
      "metadata": {
        "id": "0WrVDOwBoTEo",
        "outputId": "a434edd1-9213-4ba2-c688-253a5a4a0a2c",
        "colab": {
          "base_uri": "https://localhost:8080/",
          "height": 510
        }
      },
      "execution_count": null,
      "outputs": [
        {
          "output_type": "display_data",
          "data": {
            "text/plain": [
              "<Figure size 1200x800 with 4 Axes>"
            ],
            "image/png": "[encoded data removed]"
          },
          "metadata": {}
        }
      ]
    },
    {
      "cell_type": "markdown",
      "source": [
        "# 3. Calificación promedio de la tienda\n"
      ],
      "metadata": {
        "id": "Rq6tU_xSY3jk"
      }
    },
    {
      "cell_type": "code",
      "source": [
        "tienda_df={'Tienda':tienda, 'Tienda2':tienda2, 'Tienda3':tienda3, 'Tienda4':tienda4}\n",
        "\n",
        "\n",
        "for nombre, df in tienda_df.items():\n",
        "\n",
        "\n",
        "    calificacion_promedio = float(df['Calificación'].mean())\n",
        "    print(f'La calificación promedio de \"{nombre}\" es {calificacion_promedio}')\n",
        "    print()\n",
        "\n"
      ],
      "metadata": {
        "id": "A34YupIuYhfF",
        "colab": {
          "base_uri": "https://localhost:8080/"
        },
        "outputId": "8ad0b156-e0cb-40fe-8c52-e77f7498728e"
      },
      "execution_count": null,
      "outputs": [
        {
          "output_type": "stream",
          "name": "stdout",
          "text": [
            "La calificación promedio de \"Tienda\" es 3.976685036032217\n",
            "\n",
            "La calificación promedio de \"Tienda2\" es 4.037303942348453\n",
            "\n",
            "La calificación promedio de \"Tienda3\" es 4.048325561678677\n",
            "\n",
            "La calificación promedio de \"Tienda4\" es 3.9957591178965224\n",
            "\n"
          ]
        }
      ]
    },
    {
      "cell_type": "code",
      "source": [
        "tienda_df = {'Tienda': tienda, 'Tienda2': tienda2, 'Tienda3': tienda3, 'Tienda4': tienda4}\n",
        "\n",
        "calificaciones_promedio = {\n",
        "    nombre: df['Calificación'].mean()\n",
        "    for nombre, df in tienda_df.items()\n",
        "}\n",
        "\n",
        "plt.pie(calificaciones_promedio.values(), labels=calificaciones_promedio.keys(), autopct='%1.1f%%', startangle=90)\n",
        "plt.title('Calificación Promedio por Tienda')\n",
        "plt.axis('equal')\n",
        "plt.show()"
      ],
      "metadata": {
        "id": "C7WfpKJzo_fT",
        "outputId": "66f03cc9-274a-4492-ae40-f96b7dcecbe3",
        "colab": {
          "base_uri": "https://localhost:8080/",
          "height": 429
        }
      },
      "execution_count": null,
      "outputs": [
        {
          "output_type": "display_data",
          "data": {
            "text/plain": [
              "<Figure size 640x480 with 1 Axes>"
            ],
            "image/png": "[encoded data removed]"
          },
          "metadata": {}
        }
      ]
    },
    {
      "cell_type": "markdown",
      "source": [
        "# 4. Productos más y menos vendidos"
      ],
      "metadata": {
        "id": "DmNp1KPBZCm-"
      }
    },
    {
      "cell_type": "code",
      "source": [
        "productos_mas_vendidos = {\n",
        "    nombre:df.groupby('Producto')['Precio'].sum().idxmax()\n",
        "    for nombre, df in tienda_df.items()\n",
        "    }\n",
        "\n",
        "for nombre, producto in productos_mas_vendidos.items():\n",
        "    print(f'El producto más vendido en \"{nombre}\" es {producto}')\n",
        "    print()"
      ],
      "metadata": {
        "id": "qoyjqijQZHfF",
        "colab": {
          "base_uri": "https://localhost:8080/"
        },
        "outputId": "f1057952-572f-4609-b6de-3ae45077496a"
      },
      "execution_count": null,
      "outputs": [
        {
          "output_type": "stream",
          "name": "stdout",
          "text": [
            "El producto más vendido en \"Tienda\" es TV LED UHD 4K\n",
            "\n",
            "El producto más vendido en \"Tienda2\" es Iphone 15\n",
            "\n",
            "El producto más vendido en \"Tienda3\" es Refrigerador\n",
            "\n",
            "El producto más vendido en \"Tienda4\" es Iphone 15\n",
            "\n"
          ]
        }
      ]
    },
    {
      "cell_type": "code",
      "source": [
        "productos_menos_vendidos = {\n",
        "    nombre:df.groupby('Producto')['Precio'].sum().idxmin()\n",
        "    for nombre, df in tienda_df.items()\n",
        "    }\n",
        "\n",
        "for nombre, producto in productos_menos_vendidos.items():\n",
        "    print(f'El producto menos vendido en \"{nombre}\" es {producto}')\n",
        "    print()\n"
      ],
      "metadata": {
        "id": "0Sw3sd4IZIGW",
        "colab": {
          "base_uri": "https://localhost:8080/"
        },
        "outputId": "ce539908-95f6-4c6d-ca5b-ef1874d9dc94"
      },
      "execution_count": null,
      "outputs": [
        {
          "output_type": "stream",
          "name": "stdout",
          "text": [
            "El producto menos vendido en \"Tienda\" es Cuerda para saltar\n",
            "\n",
            "El producto menos vendido en \"Tienda2\" es Cubo mágico 8x8\n",
            "\n",
            "El producto menos vendido en \"Tienda3\" es Cubo mágico 8x8\n",
            "\n",
            "El producto menos vendido en \"Tienda4\" es Cuerda para saltar\n",
            "\n"
          ]
        }
      ]
    },
    {
      "cell_type": "markdown",
      "source": [
        "# 5. Envío promedio por tienda"
      ],
      "metadata": {
        "id": "Fl0cGi3bZKqU"
      }
    },
    {
      "cell_type": "code",
      "source": [
        "envio_promedio = {\n",
        "    nombre:df['Costo de envío'].mean()\n",
        "    for nombre, df in tienda_df.items()\n",
        "    }\n",
        "\n",
        "for nombre, envio in envio_promedio.items():\n",
        "    print(f'El envío promedio en \"{nombre}\" es {envio}')\n",
        "    print()"
      ],
      "metadata": {
        "id": "S2JeaCykZNy9",
        "colab": {
          "base_uri": "https://localhost:8080/"
        },
        "outputId": "4ae8dc1d-a99e-49ff-a67f-b02ff2e5470c"
      },
      "execution_count": null,
      "outputs": [
        {
          "output_type": "stream",
          "name": "stdout",
          "text": [
            "El envío promedio en \"Tienda\" es 26018.60958033065\n",
            "\n",
            "El envío promedio en \"Tienda2\" es 25216.235693090293\n",
            "\n",
            "El envío promedio en \"Tienda3\" es 24805.680373039424\n",
            "\n",
            "El envío promedio en \"Tienda4\" es 23459.457167090754\n",
            "\n"
          ]
        }
      ]
    },
    {
      "cell_type": "code",
      "source": [
        "plt.figure(figsize=(10, 6))\n",
        "plt.bar(envio_promedio.keys(), envio_promedio.values())\n",
        "plt.xlabel('Tienda')\n",
        "plt.ylabel('Envío promedio')\n",
        "plt.title('Envío promedio por tienda')"
      ],
      "metadata": {
        "id": "0tSdCie9ZQlt",
        "colab": {
          "base_uri": "https://localhost:8080/",
          "height": 432
        },
        "outputId": "02936cdc-8a01-43f1-c8f2-3c29827cbbb7"
      },
      "execution_count": null,
      "outputs": [
        {
          "output_type": "execute_result",
          "data": {
            "text/plain": [
              "Text(0.5, 1.0, 'Envío promedio por tienda')"
            ]
          },
          "metadata": {},
          "execution_count": 45
        },
        {
          "output_type": "display_data",
          "data": {
            "text/plain": [
              "<Figure size 1000x600 with 1 Axes>"
            ],
            "image/png": "[encoded data removed]"
          },
          "metadata": {}
        }
      ]
    },
    {
      "cell_type": "markdown",
      "source": [
        "# Sr. Juan, teniendo en cuenta todos los factores analizados, como:\n",
        "\n",
        "Los ingresos totales de las tiendas.\n",
        "\n",
        "**Observación:**\n",
        "\n",
        "*   Las Tiendas 2 y 3 son las que generan mayores ingresos, mientras que las Tiendas 1 y 4 tienen la misma facturación, siendo las más bajas.\n",
        "\n",
        "Las categorías de productos más y menos vendidas.\n",
        "\n",
        "Las calificaciones promedio de los clientes por tienda.\n",
        "\n",
        "**Observación:**\n",
        "\n",
        "\n",
        "\n",
        "*   La Tienda 3 tiene la mejor calificación, seguida de la Tienda 2. La Tienda 1 es la peor evaluada, lo que indica menor satisfacción del cliente.\n",
        "\n",
        "Los productos más y menos vendidos.\n",
        "**Observación:**\n",
        "\n",
        "\n",
        "\n",
        "*   Las Tiendas 2 y 4 venden el iPhone 15 como producto\n",
        "estrella, lo que sugiere un enfoque en tecnología de alta demanda.\n",
        "\n",
        "* La Tienda 3 destaca con electrodomésticos (Refrigerador), un rubro con alto valor.\n",
        "\n",
        "* La Tienda 1 depende de televisores, un mercado competitivo.\n",
        "\n",
        "* Los productos menos vendidos (Cuerda para saltar y Cubo mágico 8x8) no generan gran impacto, pero la Tienda 1 y 4 comparten el mismo producto menos rentable.\n",
        "\n",
        "El coste de envío promedio para cada tienda.\n",
        "**Observación:**\n",
        "\n",
        "* La Tienda 4 es la más eficiente en envíos, mientras que la Tienda 1 es la más lenta.\n",
        "\n",
        "Conclusión: ¿Qué Tienda Debe Cerrarse?\n",
        "Tienda 1:\n",
        "\n",
        "Menor facturación (igual a Tienda 4, pero con peor logística).\n",
        "\n",
        "Peor calificación (3.98 vs. 4.00 de Tienda 4).\n",
        "\n",
        "Producto estrella menos rentable (TV vs. iPhone 15 o Refrigerador).\n",
        "\n",
        "Logística más lenta (mayor tiempo de envío).\n",
        "\n",
        "Tienda 4:\n",
        "\n",
        "Aunque tiene la misma facturación que la Tienda 1, su calificación es mejor (4.00) y su logística es la más eficiente.\n",
        "\n",
        "Además, vende iPhone 15, un producto de alta demanda.\n",
        "\n",
        "Tiendas 2 y 3:\n",
        "\n",
        "Son las mejores en facturación y satisfacción, por lo que no son candidatas a cierre.\n",
        "\n",
        "#Recomendación Final:\n",
        "Cerrar la Tienda 1, ya que es la que presenta el peor desempeño en facturación, satisfacción del cliente y eficiencia operativa, a pesar de tener un producto destacado (TV). La Tienda 4, aunque tiene la misma facturación, supera a la Tienda 1 en los demás aspectos clave.\n",
        "\n",
        "Esta decisión permitirá optimizar recursos y enfocarse en las tiendas con mayor potencial de crecimiento (Tiendas 2 y 3) y mejor equilibrio operativo (Tienda 4)."
      ],
      "metadata": {
        "id": "IS3oUpwav3_K"
      }
    }
  ]
}